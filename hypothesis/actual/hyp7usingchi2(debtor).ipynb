{
 "cells": [
  {
   "cell_type": "code",
   "execution_count": 1,
   "metadata": {},
   "outputs": [],
   "source": [
    "import pandas as pd\n",
    "from scipy.stats import chi2_contingency, pearsonr\n",
    "import numpy as np\n",
    "from sklearn.preprocessing import LabelEncoder\n",
    "import seaborn as sns\n",
    "import matplotlib.pyplot as plt"
   ]
  },
  {
   "cell_type": "code",
   "execution_count": 2,
   "metadata": {},
   "outputs": [
    {
     "data": {
      "text/html": [
       "<div>\n",
       "<style scoped>\n",
       "    .dataframe tbody tr th:only-of-type {\n",
       "        vertical-align: middle;\n",
       "    }\n",
       "\n",
       "    .dataframe tbody tr th {\n",
       "        vertical-align: top;\n",
       "    }\n",
       "\n",
       "    .dataframe thead th {\n",
       "        text-align: right;\n",
       "    }\n",
       "</style>\n",
       "<table border=\"1\" class=\"dataframe\">\n",
       "  <thead>\n",
       "    <tr style=\"text-align: right;\">\n",
       "      <th></th>\n",
       "      <th>Marital status</th>\n",
       "      <th>Application mode</th>\n",
       "      <th>Application order</th>\n",
       "      <th>Course</th>\n",
       "      <th>Daytime/evening attendance</th>\n",
       "      <th>Previous qualification</th>\n",
       "      <th>Nacionality</th>\n",
       "      <th>Mother's qualification</th>\n",
       "      <th>Father's qualification</th>\n",
       "      <th>Mother's occupation</th>\n",
       "      <th>...</th>\n",
       "      <th>Curricular units 2nd sem (credited)</th>\n",
       "      <th>Curricular units 2nd sem (enrolled)</th>\n",
       "      <th>Curricular units 2nd sem (evaluations)</th>\n",
       "      <th>Curricular units 2nd sem (approved)</th>\n",
       "      <th>Curricular units 2nd sem (grade)</th>\n",
       "      <th>Curricular units 2nd sem (without evaluations)</th>\n",
       "      <th>Unemployment rate</th>\n",
       "      <th>Inflation rate</th>\n",
       "      <th>GDP</th>\n",
       "      <th>Target</th>\n",
       "    </tr>\n",
       "  </thead>\n",
       "  <tbody>\n",
       "    <tr>\n",
       "      <th>0</th>\n",
       "      <td>1</td>\n",
       "      <td>8</td>\n",
       "      <td>5</td>\n",
       "      <td>2</td>\n",
       "      <td>1</td>\n",
       "      <td>1</td>\n",
       "      <td>1</td>\n",
       "      <td>13</td>\n",
       "      <td>10</td>\n",
       "      <td>6</td>\n",
       "      <td>...</td>\n",
       "      <td>0</td>\n",
       "      <td>0</td>\n",
       "      <td>0</td>\n",
       "      <td>0</td>\n",
       "      <td>0.000000</td>\n",
       "      <td>0</td>\n",
       "      <td>10.8</td>\n",
       "      <td>1.4</td>\n",
       "      <td>1.74</td>\n",
       "      <td>Dropout</td>\n",
       "    </tr>\n",
       "    <tr>\n",
       "      <th>1</th>\n",
       "      <td>1</td>\n",
       "      <td>6</td>\n",
       "      <td>1</td>\n",
       "      <td>11</td>\n",
       "      <td>1</td>\n",
       "      <td>1</td>\n",
       "      <td>1</td>\n",
       "      <td>1</td>\n",
       "      <td>3</td>\n",
       "      <td>4</td>\n",
       "      <td>...</td>\n",
       "      <td>0</td>\n",
       "      <td>6</td>\n",
       "      <td>6</td>\n",
       "      <td>6</td>\n",
       "      <td>13.666667</td>\n",
       "      <td>0</td>\n",
       "      <td>13.9</td>\n",
       "      <td>-0.3</td>\n",
       "      <td>0.79</td>\n",
       "      <td>Graduate</td>\n",
       "    </tr>\n",
       "    <tr>\n",
       "      <th>2</th>\n",
       "      <td>1</td>\n",
       "      <td>1</td>\n",
       "      <td>5</td>\n",
       "      <td>5</td>\n",
       "      <td>1</td>\n",
       "      <td>1</td>\n",
       "      <td>1</td>\n",
       "      <td>22</td>\n",
       "      <td>27</td>\n",
       "      <td>10</td>\n",
       "      <td>...</td>\n",
       "      <td>0</td>\n",
       "      <td>6</td>\n",
       "      <td>0</td>\n",
       "      <td>0</td>\n",
       "      <td>0.000000</td>\n",
       "      <td>0</td>\n",
       "      <td>10.8</td>\n",
       "      <td>1.4</td>\n",
       "      <td>1.74</td>\n",
       "      <td>Dropout</td>\n",
       "    </tr>\n",
       "    <tr>\n",
       "      <th>3</th>\n",
       "      <td>1</td>\n",
       "      <td>8</td>\n",
       "      <td>2</td>\n",
       "      <td>15</td>\n",
       "      <td>1</td>\n",
       "      <td>1</td>\n",
       "      <td>1</td>\n",
       "      <td>23</td>\n",
       "      <td>27</td>\n",
       "      <td>6</td>\n",
       "      <td>...</td>\n",
       "      <td>0</td>\n",
       "      <td>6</td>\n",
       "      <td>10</td>\n",
       "      <td>5</td>\n",
       "      <td>12.400000</td>\n",
       "      <td>0</td>\n",
       "      <td>9.4</td>\n",
       "      <td>-0.8</td>\n",
       "      <td>-3.12</td>\n",
       "      <td>Graduate</td>\n",
       "    </tr>\n",
       "    <tr>\n",
       "      <th>4</th>\n",
       "      <td>2</td>\n",
       "      <td>12</td>\n",
       "      <td>1</td>\n",
       "      <td>3</td>\n",
       "      <td>0</td>\n",
       "      <td>1</td>\n",
       "      <td>1</td>\n",
       "      <td>22</td>\n",
       "      <td>28</td>\n",
       "      <td>10</td>\n",
       "      <td>...</td>\n",
       "      <td>0</td>\n",
       "      <td>6</td>\n",
       "      <td>6</td>\n",
       "      <td>6</td>\n",
       "      <td>13.000000</td>\n",
       "      <td>0</td>\n",
       "      <td>13.9</td>\n",
       "      <td>-0.3</td>\n",
       "      <td>0.79</td>\n",
       "      <td>Graduate</td>\n",
       "    </tr>\n",
       "  </tbody>\n",
       "</table>\n",
       "<p>5 rows × 35 columns</p>\n",
       "</div>"
      ],
      "text/plain": [
       "   Marital status  Application mode  Application order  Course  \\\n",
       "0               1                 8                  5       2   \n",
       "1               1                 6                  1      11   \n",
       "2               1                 1                  5       5   \n",
       "3               1                 8                  2      15   \n",
       "4               2                12                  1       3   \n",
       "\n",
       "   Daytime/evening attendance  Previous qualification  Nacionality  \\\n",
       "0                           1                       1            1   \n",
       "1                           1                       1            1   \n",
       "2                           1                       1            1   \n",
       "3                           1                       1            1   \n",
       "4                           0                       1            1   \n",
       "\n",
       "   Mother's qualification  Father's qualification  Mother's occupation  ...  \\\n",
       "0                      13                      10                    6  ...   \n",
       "1                       1                       3                    4  ...   \n",
       "2                      22                      27                   10  ...   \n",
       "3                      23                      27                    6  ...   \n",
       "4                      22                      28                   10  ...   \n",
       "\n",
       "   Curricular units 2nd sem (credited)  Curricular units 2nd sem (enrolled)  \\\n",
       "0                                    0                                    0   \n",
       "1                                    0                                    6   \n",
       "2                                    0                                    6   \n",
       "3                                    0                                    6   \n",
       "4                                    0                                    6   \n",
       "\n",
       "   Curricular units 2nd sem (evaluations)  \\\n",
       "0                                       0   \n",
       "1                                       6   \n",
       "2                                       0   \n",
       "3                                      10   \n",
       "4                                       6   \n",
       "\n",
       "   Curricular units 2nd sem (approved)  Curricular units 2nd sem (grade)  \\\n",
       "0                                    0                          0.000000   \n",
       "1                                    6                         13.666667   \n",
       "2                                    0                          0.000000   \n",
       "3                                    5                         12.400000   \n",
       "4                                    6                         13.000000   \n",
       "\n",
       "   Curricular units 2nd sem (without evaluations)  Unemployment rate  \\\n",
       "0                                               0               10.8   \n",
       "1                                               0               13.9   \n",
       "2                                               0               10.8   \n",
       "3                                               0                9.4   \n",
       "4                                               0               13.9   \n",
       "\n",
       "   Inflation rate   GDP    Target  \n",
       "0             1.4  1.74   Dropout  \n",
       "1            -0.3  0.79  Graduate  \n",
       "2             1.4  1.74   Dropout  \n",
       "3            -0.8 -3.12  Graduate  \n",
       "4            -0.3  0.79  Graduate  \n",
       "\n",
       "[5 rows x 35 columns]"
      ]
     },
     "execution_count": 2,
     "metadata": {},
     "output_type": "execute_result"
    }
   ],
   "source": [
    "data = pd.read_csv(\"https://gist.githubusercontent.com/kartikjoshi267/afdbd38f1842037f4845237cba184e5d/raw/819a506fcb683f89d8584c3b170f45e04e5056a4/student_dropout_analysis.csv\")\n",
    "data.head()"
   ]
  },
  {
   "cell_type": "code",
   "execution_count": 3,
   "metadata": {},
   "outputs": [
    {
     "name": "stdout",
     "output_type": "stream",
     "text": [
      "Sample Statistic: 0.118\n",
      "Confidence Interval: (0.11764504655845391, 0.11835495344154608)\n",
      "Margin of error: 0.00035495344154608884\n"
     ]
    }
   ],
   "source": [
    "sample_data = data.sample(500, random_state=42)\n",
    "\n",
    "# Assuming you have the sample data in a pandas DataFrame called 'sample_data'\n",
    "\n",
    "# Step 1: Calculate sample statistic\n",
    "sample_statistic = sample_data['Debtor'].mean()  # Example: Mean\n",
    "\n",
    "# Step 2: Choose a confidence level\n",
    "confidence_level = 0.95  # For a 95% confidence level\n",
    "\n",
    "# Step 3: Calculate the standard error (assuming you're estimating the population mean)\n",
    "sample_size = len(sample_data)\n",
    "standard_deviation = np.std(data['Debtor'], ddof=1)  # ddof=1 for sample standard deviation\n",
    "standard_error = standard_deviation / np.sqrt(sample_size)\n",
    "\n",
    "# Step 4: Compute the margin of error\n",
    "margin_of_error = ((1 - confidence_level) / 2) * standard_error\n",
    "\n",
    "# Step 5: Construct the confidence interval\n",
    "lower_bound = sample_statistic - margin_of_error\n",
    "upper_bound = sample_statistic + margin_of_error\n",
    "\n",
    "print(\"Sample Statistic:\", sample_statistic)\n",
    "print(\"Confidence Interval:\", (lower_bound, upper_bound))\n",
    "print(\"Margin of error:\", margin_of_error)"
   ]
  },
  {
   "cell_type": "code",
   "execution_count": 4,
   "metadata": {},
   "outputs": [
    {
     "name": "stdout",
     "output_type": "stream",
     "text": [
      "4424\n"
     ]
    },
    {
     "data": {
      "image/png": "[encoded data removed]",
      "text/plain": [
       "<Figure size 360x360 with 1 Axes>"
      ]
     },
     "metadata": {
      "needs_background": "light"
     },
     "output_type": "display_data"
    },
    {
     "name": "stdout",
     "output_type": "stream",
     "text": [
      "500\n"
     ]
    },
    {
     "data": {
      "image/png": "[encoded data removed]",
      "text/plain": [
       "<Figure size 360x360 with 1 Axes>"
      ]
     },
     "metadata": {
      "needs_background": "light"
     },
     "output_type": "display_data"
    }
   ],
   "source": [
    "print(len(data))\n",
    "sns.displot(data['Debtor'], kind='kde', color='blue', fill=True)\n",
    "plt.show()\n",
    "print(len(sample_data))\n",
    "sns.displot(sample_data['Debtor'], kind='kde', color='blue', fill=True)\n",
    "plt.show()"
   ]
  },
  {
   "cell_type": "markdown",
   "metadata": {},
   "source": [
    "### Define Null and Alternative Hypothesis\n",
    "\n",
    "Null Hypothesis (H0): The dropout rate among students is related to whether the student is a debtor (=)\n",
    "\n",
    "Alternative Hypothesis (H1): The dropout rate among students is not related to whether the student is a debtor (not equal to =/=)"
   ]
  },
  {
   "cell_type": "code",
   "execution_count": 6,
   "metadata": {},
   "outputs": [
    {
     "name": "stdout",
     "output_type": "stream",
     "text": [
      "Target  Dropout  Enrolled  Graduate\n",
      "Debtor                             \n",
      "0           133        80       228\n",
      "1            37         9        13 \n",
      "\n",
      "\n",
      "25.964663796640515 2.30062001798555e-06\n",
      "[[149.94   78.498 212.562]\n",
      " [ 20.06   10.502  28.438]]\n",
      "Reject Null Hypothesis: There is evidence that the dropout rate among students is related to whether the student is a debtor\n"
     ]
    }
   ],
   "source": [
    "# Choose a Significance Level (alpha)\n",
    "alpha = 0.05\n",
    "\n",
    "# Collect Data\n",
    "# Create a contingency table of observed frequencies\n",
    "observed = pd.crosstab(sample_data['Debtor'], sample_data['Target'])\n",
    "print(observed, \"\\n\\n\")\n",
    "\n",
    "# Perform Chi-squared Test\n",
    "chi2, p_value, _, expected_freq = chi2_contingency(observed)\n",
    "print(chi2, p_value)\n",
    "print(expected_freq)\n",
    "\n",
    "# Interpret Results\n",
    "if p_value <= alpha:\n",
    "    print(\"Reject Null Hypothesis: There is evidence that the dropout rate among students is related to whether the student is a debtor\")\n",
    "else:\n",
    "    print(\"Fail to reject Null Hypothesis: There is no evidence that the dropout rate among students is related to whether the student is a debtor\")"
   ]
  },
  {
   "cell_type": "markdown",
   "metadata": {},
   "source": [
    "NULL HYPOTHESIS 1: there is no significant correlation between the dropout rate among students and debtor.\n",
    "\n",
    "ALTERNATE HYPOTHESIS 1: there is a significant correlation between the dropout rate among students and debtor."
   ]
  },
  {
   "cell_type": "code",
   "execution_count": 7,
   "metadata": {},
   "outputs": [
    {
     "name": "stdout",
     "output_type": "stream",
     "text": [
      "Spearman's Rank Correlation Coefficient: -0.22416197417206118\n",
      "p-value: 4.095633102259668e-07\n",
      "Reject Null Hypothesis: There is evidence that there is a significant correlation between the dropout rate among students is related to the debtor.\n"
     ]
    }
   ],
   "source": [
    "# Calculate Spearman's rank correlation\n",
    "encoder = LabelEncoder()\n",
    "correlation, p_value = pearsonr(sample_data['Debtor'], encoder.fit_transform(sample_data[\"Target\"]))\n",
    "\n",
    "print(\"Spearman's Rank Correlation Coefficient:\", correlation)\n",
    "print(\"p-value:\", p_value)\n",
    "\n",
    "alpha = 0.05\n",
    "if p_value <= alpha:\n",
    "    print(\"Reject Null Hypothesis: There is evidence that there is a significant correlation between the dropout rate among students is related to the debtor.\")\n",
    "else:\n",
    "    print(\"Fail to reject Null Hypothesis: There is no evidence that there is a significant correlation between the dropout rate among students is related to the debtor.\")"
   ]
  },
  {
   "cell_type": "code",
   "execution_count": null,
   "metadata": {},
   "outputs": [],
   "source": []
  }
 ],
 "metadata": {
  "kernelspec": {
   "display_name": "Python 3",
   "language": "python",
   "name": "python3"
  },
  "language_info": {
   "codemirror_mode": {
    "name": "ipython",
    "version": 3
   },
   "file_extension": ".py",
   "mimetype": "text/x-python",
   "name": "python",
   "nbconvert_exporter": "python",
   "pygments_lexer": "ipython3",
   "version": "3.10.4"
  }
 },
 "nbformat": 4,
 "nbformat_minor": 2
}
